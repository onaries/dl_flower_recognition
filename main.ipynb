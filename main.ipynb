{
 "cells": [
  {
   "cell_type": "code",
   "execution_count": 18,
   "metadata": {},
   "outputs": [],
   "source": [
    "# filter warnings\n",
    "import warnings\n",
    "warnings.simplefilter(action=\"ignore\", category=FutureWarning)\n",
    "\n",
    "# keras imports\n",
    "import tensorflow as tf\n",
    "#from vgg16 import VGG16, preprocess_input\n",
    "#from vgg19 import VGG19, preprocess_input\n",
    "#from resnet50 import ResNet50, preprocess_input\n",
    "#from inception_v3 import InceptionV3, preprocess_input\n",
    "from xception import Xception, preprocess_input\n",
    "from tensorflow.contrib.keras.python.keras.preprocessing import image\n",
    "from sklearn.preprocessing import LabelEncoder\n",
    "import _pickle as cPickle\n",
    "\n",
    "# scikit-learn \n",
    "from sklearn.preprocessing import LabelEncoder\n",
    "from sklearn.metrics import classification_report\n",
    "from sklearn.linear_model import LogisticRegression\n",
    "from sklearn.metrics import confusion_matrix\n",
    "from sklearn.model_selection import train_test_split\n",
    "#from tensorflow.contrib.learn.python.learn.preprocessing import LabelEncoder\n",
    "#from tensorflow.contrib.learn.python.learn.metrics import classification_report, confusion_matrix\n",
    "#from tensorflow.contrib.learn.python.learn.linear_model import LogisticRegression\n",
    "#from tensorflow.contrib.learn.python.learn.model_selection import train_test_split\n",
    "\n",
    "# other imports\n",
    "import numpy as np\n",
    "import glob\n",
    "import cv2\n",
    "import h5py\n",
    "import os\n",
    "import json\n",
    "import datetime\n",
    "import sys\n",
    "import pickle\n",
    "import seaborn as sns\n",
    "import matplotlib.pyplot as plt\n",
    "import glob\n",
    "from scipy.ndimage import imread"
   ]
  },
  {
   "cell_type": "code",
   "execution_count": 2,
   "metadata": {},
   "outputs": [],
   "source": [
    "# config variables\n",
    "model_name = 'xception'\n",
    "weights = 'imagenet'\n",
    "include_top = 0\n",
    "train_path = 'jpg'\n",
    "features_path = 'output/flowers_17/xception/features.h5'\n",
    "labels_path = 'output/flowers_17/xception/labels.h5'\n",
    "test_size = 0.1\n",
    "results = 'output/flowers_17/xception/results.txt'\n",
    "classfier_file = 'output/flowers_17/xception/classifier.cpickle'"
   ]
  },
  {
   "cell_type": "code",
   "execution_count": 5,
   "metadata": {},
   "outputs": [],
   "source": [
    "# data load 부분\n",
    "\n",
    "h5f_data = h5py.File(features_path, 'r')\n",
    "h5f_label = h5py.File(labels_path, 'r')\n",
    "\n",
    "features_string = h5f_data['dataset_1']\n",
    "labels_string = h5f_label['dataset_1']\n",
    "\n",
    "features = np.array(features_string)\n",
    "labels   = np.array(labels_string)\n",
    "\n",
    "del features_string\n",
    "del labels_string"
   ]
  },
  {
   "cell_type": "code",
   "execution_count": 6,
   "metadata": {},
   "outputs": [],
   "source": [
    "# 학습 & 테스트 데이터 나누기\n",
    "\n",
    "x_train, x_test, y_train, y_test = train_test_split(features, labels, test_size=0.3, random_state=9)"
   ]
  },
  {
   "cell_type": "code",
   "execution_count": 7,
   "metadata": {},
   "outputs": [],
   "source": [
    "x_train = np.array(x_train)\n",
    "x_test = np.array(x_test)\n",
    "y_train = np.array(y_train)\n",
    "y_test = np.array(y_test)"
   ]
  },
  {
   "cell_type": "code",
   "execution_count": 8,
   "metadata": {},
   "outputs": [
    {
     "name": "stdout",
     "output_type": "stream",
     "text": [
      "(1395, 2048)\n",
      "(599, 2048)\n",
      "(1395,)\n",
      "(599,)\n"
     ]
    }
   ],
   "source": [
    "print(x_train.shape)\n",
    "print(x_test.shape)\n",
    "print(y_train.shape)\n",
    "print(y_test.shape)"
   ]
  },
  {
   "cell_type": "code",
   "execution_count": 9,
   "metadata": {},
   "outputs": [],
   "source": [
    "# 모델 생성\n",
    "\n",
    "model = LogisticRegression(random_state=9)"
   ]
  },
  {
   "cell_type": "code",
   "execution_count": 10,
   "metadata": {},
   "outputs": [
    {
     "data": {
      "text/plain": [
       "LogisticRegression(C=1.0, class_weight=None, dual=False, fit_intercept=True,\n",
       "          intercept_scaling=1, max_iter=100, multi_class='ovr', n_jobs=1,\n",
       "          penalty='l2', random_state=9, solver='liblinear', tol=0.0001,\n",
       "          verbose=0, warm_start=False)"
      ]
     },
     "execution_count": 10,
     "metadata": {},
     "output_type": "execute_result"
    }
   ],
   "source": [
    "# 학습 시작\n",
    "\n",
    "model.fit(x_train, y_train)"
   ]
  },
  {
   "cell_type": "code",
   "execution_count": 11,
   "metadata": {},
   "outputs": [],
   "source": [
    "# use rank-1 and rank-5 predictions\n",
    "f = open(results, \"w\")\n",
    "rank_1 = 0\n",
    "rank_5 = 0\n",
    "\n",
    "# loop over test data\n",
    "for (label, feature) in zip(y_test, x_test):\n",
    "    # predict the probability of each class label and \n",
    "    # take the top-5 class labels\n",
    "    predictions = model.predict_proba(np.atleast_2d(feature))[0]\n",
    "    predictions = np.argsort(predictions)[::-1][:5]\n",
    "    \n",
    "    # rank-1 prediction increment\n",
    "    if label == predictions[0]:\n",
    "        rank_1 += 1\n",
    "        \n",
    "    # rank-5 prediction increment\n",
    "    if label in predictions:\n",
    "        rank_5 += 1\n",
    "\n",
    "# convert accuracies to percentages\n",
    "rank_1 = (rank_1 / float(len(y_test))) * 100\n",
    "rank_5 = (rank_5 / float(len(y_test))) * 100\n",
    "\n",
    "# write the accuracies to file\n",
    "f.write(\"rank-1: {:.2f}%\\n\".format(rank_1))\n",
    "f.write(\"rank-5: {:.2f}%\\n\\n\".format(rank_5))\n",
    "\n",
    "# evaluate the model of test data\n",
    "preds = model.predict(x_test)\n",
    "\n",
    "# write the classification report to file\n",
    "f.write(\"{}\\n\".format(classification_report(y_test, preds)))\n",
    "f.close()"
   ]
  },
  {
   "cell_type": "code",
   "execution_count": 12,
   "metadata": {},
   "outputs": [],
   "source": [
    "# dump classifier to file\n",
    "with open(classfier_file, \"wb\") as f:\n",
    "    pickle.dump(model, f)"
   ]
  },
  {
   "cell_type": "code",
   "execution_count": 13,
   "metadata": {},
   "outputs": [],
   "source": [
    "class_names = [\"daffodil\", \"snowdrop\", \"lilyvalley\", \"bluebell\", \"crocus\",\n",
    "\t\t\t   \"iris\", \"tigerlily\", \"tulip\", \"fritillary\", \"sunflower\", \n",
    "\t\t\t   \"daisy\", \"coltsfoot\", \"dandelion\", \"cowslip\", \"buttercup\",\n",
    "\t\t\t   \"windflower\", \"pansy\", \"Enchinacea\", \"Frangipani\", \"Ipomoea_pandurata\", \"mugunghwa\", \"Nymphaea_odorata\"]"
   ]
  },
  {
   "cell_type": "code",
   "execution_count": 14,
   "metadata": {},
   "outputs": [
    {
     "data": {
      "image/png": "[encoded data removed]",
      "text/plain": [
       "<matplotlib.figure.Figure at 0x7f2ad56a7e48>"
      ]
     },
     "metadata": {},
     "output_type": "display_data"
    }
   ],
   "source": [
    "# plot the confusion matrix\n",
    "cm = confusion_matrix(y_test, preds)\n",
    "sns.heatmap(cm, \n",
    "            annot=True,\n",
    "            cmap=\"Set2\")\n",
    "plt.show()"
   ]
  },
  {
   "cell_type": "code",
   "execution_count": null,
   "metadata": {},
   "outputs": [],
   "source": [
    "image_files = sorted(glob.glob('jpg/*.jpg'))"
   ]
  },
  {
   "cell_type": "code",
   "execution_count": 15,
   "metadata": {},
   "outputs": [
    {
     "data": {
      "text/plain": [
       "array([[  4.81830984e-01,   2.85626590e-01,   0.00000000e+00, ...,\n",
       "          3.01295489e-01,   5.00117010e-03,   1.16820991e-01],\n",
       "       [  1.50928080e-01,   2.16895336e-04,   1.57585949e-01, ...,\n",
       "          3.95164460e-01,   4.05825168e-01,   9.93862450e-02],\n",
       "       [  3.86891246e-01,   0.00000000e+00,   1.61042705e-01, ...,\n",
       "          2.31821194e-01,   0.00000000e+00,   3.57613385e-01],\n",
       "       ..., \n",
       "       [  2.27445886e-02,   2.12339014e-02,   3.71009529e-01, ...,\n",
       "          1.36283353e-01,   3.31704587e-01,   1.75885614e-02],\n",
       "       [  3.12119108e-02,   0.00000000e+00,   2.90546846e-02, ...,\n",
       "          2.43894488e-01,   3.28452475e-02,   3.78623675e-03],\n",
       "       [  1.15466744e-01,   1.56219974e-01,   3.35335149e-04, ...,\n",
       "          2.82782018e-01,   1.99118003e-01,   1.15464680e-01]], dtype=float32)"
      ]
     },
     "execution_count": 15,
     "metadata": {},
     "output_type": "execute_result"
    }
   ],
   "source": [
    "x_train"
   ]
  },
  {
   "cell_type": "code",
   "execution_count": null,
   "metadata": {},
   "outputs": [],
   "source": []
  }
 ],
 "metadata": {
  "kernelspec": {
   "display_name": "Python 3",
   "language": "python",
   "name": "python3"
  },
  "language_info": {
   "codemirror_mode": {
    "name": "ipython",
    "version": 3
   },
   "file_extension": ".py",
   "mimetype": "text/x-python",
   "name": "python",
   "nbconvert_exporter": "python",
   "pygments_lexer": "ipython3",
   "version": "3.6.1"
  }
 },
 "nbformat": 4,
 "nbformat_minor": 2
}
